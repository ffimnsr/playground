{
 "cells": [
  {
   "cell_type": "markdown",
   "id": "5ca0b021",
   "metadata": {},
   "source": [
    "#### Install Pip Packages"
   ]
  },
  {
   "cell_type": "code",
   "execution_count": 2,
   "id": "69e0a101-a353-4c48-9a7e-24fb04fcb31a",
   "metadata": {
    "tags": []
   },
   "outputs": [
    {
     "name": "stdout",
     "output_type": "stream",
     "text": [
      "\u001b[31mERROR: pip's dependency resolver does not currently take into account all the packages that are installed. This behaviour is the source of the following dependency conflicts.\n",
      "kfp 2.7.0 requires kubernetes<27,>=8.0.0, but you have kubernetes 30.1.0 which is incompatible.\n",
      "kfp 2.7.0 requires protobuf<5,>=4.21.1, but you have protobuf 3.20.3 which is incompatible.\n",
      "google-api-python-client 1.8.0 requires google-api-core<2dev,>=1.13.0, but you have google-api-core 2.19.1 which is incompatible.\u001b[0m\u001b[31m\n",
      "\u001b[0mNote: you may need to restart the kernel to use updated packages.\n"
     ]
    }
   ],
   "source": [
    "%pip install --upgrade --quiet langchain-core langchain-google-vertexai"
   ]
  },
  {
   "cell_type": "markdown",
   "id": "877d05e9-c085-4429-a3ed-f9b2e74892c9",
   "metadata": {
    "tags": []
   },
   "source": [
    "#### Restart the Kernel\n",
    "The project may need to restart the kernel to use updated packages."
   ]
  },
  {
   "cell_type": "code",
   "execution_count": 4,
   "id": "84ab71ad-b4cf-484a-8b15-8f4ddb41b9f2",
   "metadata": {
    "tags": []
   },
   "outputs": [
    {
     "data": {
      "text/plain": [
       "{'status': 'ok', 'restart': True}"
      ]
     },
     "execution_count": 4,
     "metadata": {},
     "output_type": "execute_result"
    }
   ],
   "source": [
    "import IPython\n",
    "import time\n",
    "\n",
    "app = IPython.Application.instance()\n",
    "app.kernel.do_shutdown(True)"
   ]
  },
  {
   "cell_type": "markdown",
   "id": "43e7789b",
   "metadata": {},
   "source": [
    "#### Import libraries"
   ]
  },
  {
   "cell_type": "code",
   "execution_count": 1,
   "id": "3e767129-0a59-48dd-b5e0-131e4b04a1fa",
   "metadata": {
    "tags": []
   },
   "outputs": [],
   "source": [
    "from langchain_google_vertexai import VertexAI\n",
    "\n",
    "# To use model\n",
    "model = VertexAI(model_name=\"gemini-pro\")"
   ]
  },
  {
   "cell_type": "markdown",
   "id": "85786789",
   "metadata": {},
   "source": [
    "#### Invoke Async"
   ]
  },
  {
   "cell_type": "code",
   "execution_count": 3,
   "id": "d3494334-2d39-4357-a7cc-9dee66d88204",
   "metadata": {
    "tags": []
   },
   "outputs": [
    {
     "data": {
      "text/plain": [
       "\"##  **Pros of Python:**\\n\\n* **Easy to learn and read:** Python has a clear and concise syntax that is close to human language, making it easier for beginners to learn and experienced developers to read and understand. \\n* **Versatile:** Python is a general-purpose language that can be used for a wide variety of tasks, including web development, data analysis, machine learning, scripting, and system administration.\\n* **Large and active community:** Python has a large and active community of developers, which means there are many resources available to help you learn and use the language.\\n* **Extensive libraries and frameworks:** Python has a rich ecosystem of libraries and frameworks that can be used to extend the language's functionality.\\n* **Open-source and free to use:** Python is an open-source language, which means it is free to use and distribute.\\n\\n## **Cons of Python:**\\n\\n* **Slower execution speed:** Python is an interpreted language, which means it is executed line by line. This can make it slower than compiled languages like Java and C++.\\n* **Dynamic typing:** Python is a dynamically typed language, which means that variables do not have a specific type associated with them. This can lead to runtime errors if you are not careful.\\n* **Limited built-in data structures:** Python has a limited number of built-in data structures, such as lists, dictionaries, and tuples. This can make it difficult to handle complex data sets.\\n* **Global Interpreter Lock (GIL):** Python has a Global Interpreter Lock (GIL), which means that only one thread can execute Python code at a time. This can limit the performance of Python applications that need to perform multi-threaded tasks.\\n\\n\\nI hope this information is helpful! Let me know if you have any other questions. \\n\""
      ]
     },
     "execution_count": 3,
     "metadata": {},
     "output_type": "execute_result"
    }
   ],
   "source": [
    "message = \"What are some of the pros and cons of Python as a programming language?\"\n",
    "await model.ainvoke(message)"
   ]
  },
  {
   "cell_type": "markdown",
   "id": "43b82771",
   "metadata": {},
   "source": [
    "#### Stream Response"
   ]
  },
  {
   "cell_type": "code",
   "execution_count": 4,
   "id": "49a71db7-bd96-46e6-a30a-c2cd1a4f5a73",
   "metadata": {
    "tags": []
   },
   "outputs": [
    {
     "name": "stdout",
     "output_type": "stream",
     "text": [
      "## Pros of Python:\n",
      "\n",
      "* **Easy to learn and read:** Python has a simple and clear syntax, making it relatively easy for beginners to pick up. Its readability also makes it easier for others to understand and maintain code.\n",
      "* **Versatile:** Python can be used for a wide variety of tasks, including web development, data analysis, machine learning, scripting, and scientific computing. This makes it a valuable skill for many different careers.\n",
      "* **Large and active community:** Python has a large and active community of developers, which means there are plenty of resources available to help you learn and troubleshoot along the way.\n",
      "* **Extensive libraries and frameworks:** There are many libraries and frameworks available for Python, which can help you speed up your development process and make it easier to accomplish complex tasks.\n",
      "* **Free and open-source:** Python is free to use and distribute, making it accessible to everyone.\n",
      "\n",
      "## Cons of Python:\n",
      "\n",
      "* **Slow execution speed:** Python code is generally slower than code written in compiled languages like C++ or Java. This can be a disadvantage for computationally intensive tasks.\n",
      "* **Dynamic typing:** Python is a dynamically typed language, which means that variables do not have a specific type associated with them. This can make code more difficult to debug and can lead to runtime errors.\n",
      "* **Global Interpreter Lock (GIL):** Python has a Global Interpreter Lock (GIL), which means that only one thread can execute Python code at a time. This can limit the performance of Python applications in multi-threaded environments.\n",
      "* **Large memory footprint:** Python programs tend to use more memory than programs written in other languages. This can be a disadvantage for devices with limited memory.\n",
      "\n",
      "Overall, Python is a powerful and versatile programming language with a lot to offer. However, it is important to be aware of its limitations before you begin using it. \n",
      "\n",
      "Would you like to learn more about Python or would you like me to discuss the pros and cons of another programming language? \n"
     ]
    }
   ],
   "source": [
    "for chunk in model.stream(message):\n",
    "    print(chunk, end=\"\", flush=True)"
   ]
  },
  {
   "cell_type": "markdown",
   "id": "439d6136",
   "metadata": {},
   "source": [
    "#### Get Batch Response Invoke"
   ]
  },
  {
   "cell_type": "code",
   "execution_count": 5,
   "id": "800ebb1b-c950-42e8-b2db-2853967c6a1d",
   "metadata": {
    "tags": []
   },
   "outputs": [
    {
     "data": {
      "text/plain": [
       "['## Pros of Python\\n\\n* **Easy to learn and read:** Python has a simple and elegant syntax that is often compared to the English language. This makes it easier for beginners to learn and for experienced programmers to read and understand code written by others.\\n* **Open-source and free:** Python is an open-source language, which means that it is free to use and distribute. This makes it a popular choice for both personal and commercial projects.\\n* **Extensive libraries and frameworks:** Python has a vast and active community that has developed a wealth of libraries and frameworks for a wide variety of tasks. This means that you can often find ready-made solutions for common problems, saving you time and effort.\\n* **Versatility:** Python is a versatile language that can be used for a variety of tasks, including web development, data science, machine learning, scripting, and more. This makes it a valuable skill to have for a wide range of jobs.\\n* **Community support:** Python has a large and active community of users and developers who are always willing to help and answer questions. This can be a valuable resource if you are stuck on a problem or need some guidance.\\n\\n## Cons of Python\\n\\n* **Slower execution speed:** Python is an interpreted language, which means that it is generally slower than compiled languages like C++ or Java. This can be a disadvantage if you are working on performance-critical applications.\\n* **Global Interpreter Lock (GIL):** Python has a Global Interpreter Lock (GIL) that prevents multiple threads from executing Python bytecode at the same time. This can be a disadvantage if you are working on applications that require true parallelism.\\n* **Dynamically-typed:** Python is a dynamically-typed language, which means that variables can hold any type of data. This can be a disadvantage if you are working on complex projects where data types need to be strictly defined.\\n* **Not ideal for low-level programming:** Python is not a good choice for low-level programming tasks, such as writing device drivers or operating system kernels.\\n\\n## Overall\\n\\nPython is a powerful and versatile programming language with a lot to offer. However, it is important to be aware of its limitations before choosing it for a particular task.\\n']"
      ]
     },
     "execution_count": 5,
     "metadata": {},
     "output_type": "execute_result"
    }
   ],
   "source": [
    "model.batch([message])"
   ]
  }
 ],
 "metadata": {
  "environment": {
   "kernel": "python3",
   "name": "tf2-cpu.2-16.m123",
   "type": "gcloud",
   "uri": "us-docker.pkg.dev/deeplearning-platform-release/gcr.io/tf2-cpu.2-16:m123"
  },
  "kernelspec": {
   "display_name": "Python 3 (Local)",
   "language": "python",
   "name": "python3"
  },
  "language_info": {
   "codemirror_mode": {
    "name": "ipython",
    "version": 3
   },
   "file_extension": ".py",
   "mimetype": "text/x-python",
   "name": "python",
   "nbconvert_exporter": "python",
   "pygments_lexer": "ipython3",
   "version": "3.10.14"
  }
 },
 "nbformat": 4,
 "nbformat_minor": 5
}
