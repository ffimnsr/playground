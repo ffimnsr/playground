{
  "nbformat": 4,
  "nbformat_minor": 0,
  "metadata": {
    "colab": {
      "provenance": []
    },
    "kernelspec": {
      "name": "python3",
      "display_name": "Python 3"
    },
    "language_info": {
      "name": "python"
    }
  },
  "cells": [
    {
      "cell_type": "code",
      "execution_count": 2,
      "metadata": {
        "id": "x1380kIZGvqq"
      },
      "outputs": [],
      "source": [
        "# Install langchain dependencies\n",
        "!pip install -qU langchain-core langchain-google-genai langchain-text-splitters httpx"
      ]
    },
    {
      "cell_type": "code",
      "source": [
        "# Restart kernel after installs so that your environment can access the new\n",
        "# packages.\n",
        "import IPython\n",
        "\n",
        "app = IPython.Application.instance()\n",
        "app.kernel.do_shutdown(True)"
      ],
      "metadata": {
        "colab": {
          "base_uri": "https://localhost:8080/"
        },
        "id": "9YC3MM4_H5q3",
        "outputId": "90802dfa-273f-45b7-cf8d-5e4eb2cdb58f"
      },
      "execution_count": 3,
      "outputs": [
        {
          "output_type": "execute_result",
          "data": {
            "text/plain": [
              "{'status': 'ok', 'restart': True}"
            ]
          },
          "metadata": {},
          "execution_count": 3
        }
      ]
    },
    {
      "cell_type": "code",
      "source": [
        "from google.colab import userdata\n",
        "from langchain_google_genai import ChatGoogleGenerativeAI\n",
        "from langchain_core.prompts import ChatPromptTemplate\n",
        "from langchain_core.messages import HumanMessage\n",
        "from langchain_core.pydantic_v1 import BaseModel, Field\n",
        "\n",
        "import os\n",
        "\n",
        "os.environ[\"GOOGLE_API_KEY\"] = userdata.get(\"api_key\")\n",
        "os.environ[\"GOOGLE_CLOUD_PROJECT\"] = userdata.get(\"project_id\")\n",
        "\n",
        "PROJECT_ID = userdata.get(\"project_id\")\n",
        "print(f\"Your project ID is: {PROJECT_ID}\")"
      ],
      "metadata": {
        "id": "hbYKDM7HIT2T",
        "colab": {
          "base_uri": "https://localhost:8080/"
        },
        "outputId": "fb321302-48c8-4101-d135-7c0e74d0ac2b"
      },
      "execution_count": 16,
      "outputs": [
        {
          "output_type": "stream",
          "name": "stdout",
          "text": [
            "Your project ID is: gen-lang-client-0943365174\n"
          ]
        }
      ]
    },
    {
      "cell_type": "code",
      "source": [
        "llm = ChatGoogleGenerativeAI(\n",
        "    model=\"gemini-1.5-flash\",\n",
        "    temperature=0.8,\n",
        ")"
      ],
      "metadata": {
        "id": "o2DunegvK3yU"
      },
      "execution_count": 2,
      "outputs": []
    },
    {
      "cell_type": "code",
      "source": [
        "# Synchronous invoke\n",
        "query = \"What is the meaning of life?\"\n",
        "\n",
        "message = llm.invoke(query)\n",
        "print(message.content)"
      ],
      "metadata": {
        "colab": {
          "base_uri": "https://localhost:8080/"
        },
        "id": "Mf8TtyP4NAmW",
        "outputId": "7ddde465-2eb3-407f-a52a-e46b7bd90a9a"
      },
      "execution_count": 4,
      "outputs": [
        {
          "output_type": "stream",
          "name": "stdout",
          "text": [
            "As a large language model, I don't have personal beliefs or opinions about the meaning of life. This is a question that philosophers and theologians have grappled with for centuries, and there is no one definitive answer. \n",
            "\n",
            "Here are some perspectives on the meaning of life:\n",
            "\n",
            "* **Existentialism:**  Focuses on individual freedom and responsibility. Life has no inherent meaning, but we create our own meaning through our choices and actions.\n",
            "* **Nihilism:**  Believes that life is meaningless and without purpose.\n",
            "* **Absurdism:**  Acknowledges the inherent absurdity of life and encourages us to embrace it.\n",
            "* **Religious perspectives:**  Many religions offer a framework for understanding the meaning of life, often focusing on a higher power, spiritual growth, and the afterlife.\n",
            "* **Humanism:**  Emphasizes human values, reason, and ethics. Meaning is found in human connection, creativity, and contributing to society.\n",
            "* **Hedonism:**  Seeks pleasure and happiness as the ultimate goal of life.\n",
            "* **Stoicism:**  Focuses on virtue, reason, and accepting what we cannot control.\n",
            "* **Epicureanism:**  Emphasizes living a simple life focused on pleasure and moderation.\n",
            "\n",
            "Ultimately, the meaning of life is a personal question. It's up to each individual to find what gives their life meaning and purpose. Here are some questions that might help you explore this:\n",
            "\n",
            "* What are your values?\n",
            "* What are your passions?\n",
            "* What brings you joy?\n",
            "* What do you want to achieve in life?\n",
            "* What legacy do you want to leave behind?\n",
            "\n",
            "The search for meaning can be a lifelong journey. There is no right or wrong answer, and it's okay to change your perspective over time. \n",
            "\n"
          ]
        }
      ]
    },
    {
      "cell_type": "code",
      "source": [
        "# Stream synchronous invoke\n",
        "for chunk in llm.stream(query):\n",
        "    print(chunk.content)"
      ],
      "metadata": {
        "colab": {
          "base_uri": "https://localhost:8080/"
        },
        "id": "7it6QyTBzYu6",
        "outputId": "37dfbdc3-b7b5-41b9-f2c0-02e5619c148a"
      },
      "execution_count": 5,
      "outputs": [
        {
          "output_type": "stream",
          "name": "stdout",
          "text": [
            "The\n",
            " meaning of life is a question that has been pondered by philosophers, theologians, and\n",
            " individuals for centuries. There is no single, definitive answer, and the meaning can\n",
            " vary greatly from person to person.\n",
            "\n",
            "Here are some common perspectives:\n",
            "\n",
            "**Existentialism:** Emphasizes individual freedom and responsibility. Meaning is not predetermined,\n",
            " but rather created through our choices and actions.\n",
            "\n",
            "**Nihilism:** Argues that life has no inherent meaning or purpose. Everything is ultimately pointless.\n",
            "\n",
            "\n",
            "**Hedonism:** Focuses on maximizing pleasure and minimizing pain. Meaning is found in pursuing personal happiness.\n",
            "\n",
            "**Utilitarianism:** Emphasizes maximizing overall happiness and well-being for the greatest number of people. Meaning is found in contributing\n",
            " to the common good.\n",
            "\n",
            "**Religious perspectives:** Often define meaning through a belief in a higher power or a spiritual purpose. Meaning is found in following divine commandments, achieving enlightenment, or serving a greater cause.\n",
            "\n",
            "**Humanistic perspectives:**\n",
            " Emphasize the potential and value of human life. Meaning is found in self-actualization, creativity, and contributing to society.\n",
            "\n",
            "**Personal meaning:** Ultimately, the meaning of life is a personal question. It depends on your values, beliefs, and experiences.\n",
            "\n",
            "**Here are some questions to consider when exploring your\n",
            " own meaning of life:**\n",
            "\n",
            "* What brings you joy and fulfillment?\n",
            "* What are your passions and talents?\n",
            "* What do you believe is important in life?\n",
            "* What legacy do you want to leave behind?\n",
            "\n",
            "There is no right or wrong answer to the question of the meaning of life. It is\n",
            " a journey of self-discovery that continues throughout our lives. \n",
            "\n",
            "It's important to remember that the search for meaning is a deeply personal one. There is no single answer that will satisfy everyone. What matters most is that you find something that gives your life purpose and meaning.\n",
            "\n"
          ]
        }
      ]
    },
    {
      "cell_type": "code",
      "source": [
        "# Asynchrounous invoke\n",
        "message = await llm.ainvoke(query)\n",
        "print(message.content)\n",
        "\n",
        "# stream:\n",
        "# async for chunk in (await llm.astream(messages))\n",
        "\n",
        "# batch:\n",
        "# await llm.abatch([messages])"
      ],
      "metadata": {
        "colab": {
          "base_uri": "https://localhost:8080/"
        },
        "id": "TmvKLbcCzspQ",
        "outputId": "b2735904-4b3d-4df9-90d2-ab3e02bc3c75"
      },
      "execution_count": 6,
      "outputs": [
        {
          "output_type": "stream",
          "name": "stdout",
          "text": [
            "The meaning of life is a profound question that has been pondered by philosophers, theologians, and individuals for centuries. There is no single, definitive answer, as it is a highly personal and subjective question. \n",
            "\n",
            "Here are some perspectives on the meaning of life:\n",
            "\n",
            "**Philosophical Perspectives:**\n",
            "\n",
            "* **Nihilism:**  Life has no inherent meaning or purpose.  \n",
            "* **Existentialism:**  Individuals create their own meaning and purpose through their choices and actions.\n",
            "* **Absurdism:**  Life is inherently meaningless, but we can still find joy and fulfillment by embracing the absurdity.\n",
            "* **Hedonism:**  The pursuit of pleasure and happiness is the ultimate goal.\n",
            "* **Utilitarianism:**  The meaning of life is to maximize happiness for the greatest number of people.\n",
            "\n",
            "**Religious Perspectives:**\n",
            "\n",
            "* **Theism:**  Life has a divine purpose and meaning as determined by a higher power.\n",
            "* **Buddhism:**  The meaning of life is to achieve enlightenment and escape the cycle of suffering.\n",
            "* **Christianity:**  The meaning of life is to love God and serve others.\n",
            "\n",
            "**Personal Perspectives:**\n",
            "\n",
            "* **Finding purpose:**  Many people find meaning in their relationships, work, hobbies, or contributions to society.\n",
            "* **Experiencing joy:**  Others find meaning in simply experiencing the joys and wonders of life.\n",
            "* **Leaving a legacy:**  Some strive to leave a lasting impact on the world.\n",
            "\n",
            "Ultimately, the meaning of life is a question that each individual must answer for themselves. There is no right or wrong answer, and the meaning of life can change and evolve over time. \n",
            "\n",
            "**Some helpful things to consider:**\n",
            "\n",
            "* **What are your values and beliefs?**\n",
            "* **What brings you joy and fulfillment?**\n",
            "* **What do you want to achieve in your life?**\n",
            "* **What impact do you want to have on the world?**\n",
            "\n",
            "By exploring these questions, you can begin to develop your own understanding of the meaning of life.\n",
            "\n"
          ]
        }
      ]
    },
    {
      "cell_type": "code",
      "source": [
        "# Chaining prompts\n",
        "prompt = ChatPromptTemplate.from_messages(\n",
        "    [\n",
        "        (\n",
        "            \"system\",\n",
        "            \"You are a helpful assistant that translates {input_language} to {output_language}.\",\n",
        "        ),\n",
        "        (\"human\", \"{input}\"),\n",
        "    ]\n",
        ")\n",
        "\n",
        "chain = prompt | llm\n",
        "message = chain.invoke(\n",
        "    {\n",
        "        \"input_language\": \"English\",\n",
        "        \"output_language\": \"German\",\n",
        "        \"input\": \"I love programming.\",\n",
        "    }\n",
        ")\n",
        "\n",
        "print(message.content)"
      ],
      "metadata": {
        "id": "6obatseBN52f",
        "colab": {
          "base_uri": "https://localhost:8080/"
        },
        "outputId": "6ec0f9f5-521a-4c02-d06e-7c8398825e85"
      },
      "execution_count": 9,
      "outputs": [
        {
          "output_type": "stream",
          "name": "stdout",
          "text": [
            "Ich liebe Programmieren. \n",
            "\n"
          ]
        }
      ]
    },
    {
      "cell_type": "code",
      "source": [
        "# Structured ouput\n",
        "from typing import Optional\n",
        "\n",
        "class Joke(BaseModel):\n",
        "    '''Joke to tell user.'''\n",
        "\n",
        "    setup: str = Field(description=\"The setup of the joke\")\n",
        "    punchline: str = Field(description=\"The punchline to the joke\")\n",
        "    rating: Optional[int] = Field(description=\"How funny the joke is, from 1 to 10\")\n",
        "\n",
        "structured_llm = llm.with_structured_output(Joke)\n",
        "structured_llm.invoke(\"Tell me a joke about cats\")"
      ],
      "metadata": {
        "colab": {
          "base_uri": "https://localhost:8080/"
        },
        "id": "LQSvZSoC0uAB",
        "outputId": "10fb4219-e67a-4edd-ad19-940db13e850e"
      },
      "execution_count": 17,
      "outputs": [
        {
          "output_type": "execute_result",
          "data": {
            "text/plain": [
              "Joke(setup=\"Why don\\\\'t cats play poker?\", punchline='Because they always have an ace up their sleeve!', rating=None)"
            ]
          },
          "metadata": {},
          "execution_count": 17
        }
      ]
    },
    {
      "cell_type": "code",
      "source": [
        "# Tool calling\n",
        "class GetWeather(BaseModel):\n",
        "    '''Get the current weather in a given location'''\n",
        "\n",
        "    location: str = Field(\n",
        "        ..., description=\"The city and state, e.g. San Francisco, CA\"\n",
        "    )\n",
        "\n",
        "\n",
        "class GetPopulation(BaseModel):\n",
        "    '''Get the current population in a given location'''\n",
        "\n",
        "    location: str = Field(\n",
        "        ..., description=\"The city and state, e.g. San Francisco, CA\"\n",
        "    )\n",
        "\n",
        "\n",
        "llm_with_tools = llm.bind_tools([GetWeather, GetPopulation])\n",
        "message = llm_with_tools.invoke(\n",
        "    \"Which city is hotter today and which is bigger: LA or NY?\"\n",
        ")\n",
        "message.tool_calls"
      ],
      "metadata": {
        "colab": {
          "base_uri": "https://localhost:8080/"
        },
        "id": "YfGYJ4eG3gUT",
        "outputId": "24dbb191-3b21-4031-b237-a2936dcb0f72"
      },
      "execution_count": 22,
      "outputs": [
        {
          "output_type": "execute_result",
          "data": {
            "text/plain": [
              "[{'name': 'GetWeather',\n",
              "  'args': {'location': 'Los Angeles, CA'},\n",
              "  'id': '1d1c99c5-3fc9-4cd4-9636-1f470fb852fb',\n",
              "  'type': 'tool_call'},\n",
              " {'name': 'GetWeather',\n",
              "  'args': {'location': 'New York, NY'},\n",
              "  'id': 'bce87dd9-a719-4ae2-a770-6a86125fa185',\n",
              "  'type': 'tool_call'},\n",
              " {'name': 'GetPopulation',\n",
              "  'args': {'location': 'Los Angeles, CA'},\n",
              "  'id': '9379e08d-c47e-448e-94e8-618399a2fb1f',\n",
              "  'type': 'tool_call'},\n",
              " {'name': 'GetPopulation',\n",
              "  'args': {'location': 'New York, NY'},\n",
              "  'id': 'ff53e4e8-57f1-4cbd-8419-5eeab8ff6c09',\n",
              "  'type': 'tool_call'}]"
            ]
          },
          "metadata": {},
          "execution_count": 22
        }
      ]
    },
    {
      "cell_type": "code",
      "source": [
        "# Image input\n",
        "import base64\n",
        "import httpx\n",
        "\n",
        "image_url = \"https://upload.wikimedia.org/wikipedia/commons/thumb/d/dd/Gfp-wisconsin-madison-the-nature-boardwalk.jpg/2560px-Gfp-wisconsin-madison-the-nature-boardwalk.jpg\"\n",
        "image_data = base64.b64encode(httpx.get(image_url).content).decode(\"utf-8\")\n",
        "message = HumanMessage(\n",
        "    content=[\n",
        "        {\"type\": \"text\", \"text\": \"describe the weather in this image\"},\n",
        "        {\n",
        "            \"type\": \"image_url\",\n",
        "            \"image_url\": {\"url\": f\"data:image/jpeg;base64,{image_data}\"},\n",
        "        },\n",
        "    ]\n",
        ")\n",
        "message = llm.invoke([message])\n",
        "print(message.content)"
      ],
      "metadata": {
        "colab": {
          "base_uri": "https://localhost:8080/"
        },
        "id": "Hk88DvDd1j2S",
        "outputId": "0714d257-553c-4c8a-a451-e5fed458d37e"
      },
      "execution_count": 15,
      "outputs": [
        {
          "output_type": "stream",
          "name": "stdout",
          "text": [
            "The weather looks sunny and clear. The sky is blue with white fluffy clouds, and the grass is a vibrant green, suggesting a warm and pleasant day.  There is no sign of rain or any other inclement weather.\n"
          ]
        }
      ]
    },
    {
      "cell_type": "code",
      "source": [],
      "metadata": {
        "id": "F4YXuNuM29Np"
      },
      "execution_count": null,
      "outputs": []
    }
  ]
}